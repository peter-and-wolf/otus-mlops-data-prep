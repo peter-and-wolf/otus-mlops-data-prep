{
 "cells": [
  {
   "cell_type": "markdown",
   "id": "76c5523a",
   "metadata": {},
   "source": [
    "# Подготовка данных"
   ]
  },
  {
   "cell_type": "markdown",
   "id": "ad83f483",
   "metadata": {},
   "source": [
    "## Считаем данные в исходном csv формате"
   ]
  },
  {
   "cell_type": "code",
   "execution_count": 1,
   "id": "fb571278",
   "metadata": {},
   "outputs": [
    {
     "name": "stdout",
     "output_type": "stream",
     "text": [
      "Defaulting to user installation because normal site-packages is not writeable\n",
      "Requirement already satisfied: findspark in ./.local/lib/python3.8/site-packages (2.0.1)\n"
     ]
    }
   ],
   "source": [
    "!pip install findspark"
   ]
  },
  {
   "cell_type": "markdown",
   "id": "4aea29b7",
   "metadata": {},
   "source": [
    "Перезапустить kernel после установки!"
   ]
  },
  {
   "cell_type": "code",
   "execution_count": 2,
   "id": "dbd680b3",
   "metadata": {},
   "outputs": [],
   "source": [
    "import findspark\n",
    "findspark.init()"
   ]
  },
  {
   "cell_type": "code",
   "execution_count": 2,
   "id": "8582f495",
   "metadata": {},
   "outputs": [
    {
     "name": "stdout",
     "output_type": "stream",
     "text": [
      "Found 1 items\n",
      "drwxr-xr-x   - ubuntu hadoop          0 2024-10-30 07:25 data\n"
     ]
    }
   ],
   "source": [
    "!hdfs dfs -ls"
   ]
  },
  {
   "cell_type": "code",
   "execution_count": 3,
   "id": "61924a77",
   "metadata": {},
   "outputs": [
    {
     "name": "stdout",
     "output_type": "stream",
     "text": [
      "Found 1 items\n",
      "-rw-r--r--   1 ubuntu hadoop 5846760913 2024-10-30 07:25 data/train.csv\n"
     ]
    }
   ],
   "source": [
    "!hdfs dfs -ls data"
   ]
  },
  {
   "cell_type": "markdown",
   "id": "b353884b",
   "metadata": {},
   "source": [
    "Создадим SparkSession"
   ]
  },
  {
   "cell_type": "code",
   "execution_count": 3,
   "id": "5a851f7c",
   "metadata": {},
   "outputs": [],
   "source": [
    "from pyspark.sql import SparkSession\n",
    "\n",
    "spark = (\n",
    "    SparkSession\n",
    "        .builder\n",
    "        .appName(\"OTUS\")\n",
    "        .getOrCreate()\n",
    ")"
   ]
  },
  {
   "cell_type": "markdown",
   "id": "af7d9429",
   "metadata": {},
   "source": [
    "Загрузим данные"
   ]
  },
  {
   "cell_type": "code",
   "execution_count": 6,
   "id": "f6b5fb82",
   "metadata": {},
   "outputs": [],
   "source": [
    "df = spark.read.csv(\"data/train.csv\", inferSchema=True, header=True)"
   ]
  },
  {
   "cell_type": "markdown",
   "id": "ed116eb1",
   "metadata": {},
   "source": [
    "Поделим данные на 10 разделов и сохраним в формате parquete"
   ]
  },
  {
   "cell_type": "code",
   "execution_count": 7,
   "id": "c61e2248",
   "metadata": {},
   "outputs": [
    {
     "name": "stdout",
     "output_type": "stream",
     "text": [
      "CPU times: user 4.75 ms, sys: 606 µs, total: 5.36 ms\n",
      "Wall time: 21.1 s\n"
     ]
    },
    {
     "data": {
      "text/plain": [
       "101230332"
      ]
     },
     "execution_count": 7,
     "metadata": {},
     "output_type": "execute_result"
    }
   ],
   "source": [
    "%%time\n",
    "df.count()"
   ]
  },
  {
   "cell_type": "code",
   "execution_count": 8,
   "id": "2ee16ab2",
   "metadata": {},
   "outputs": [],
   "source": [
    "(\n",
    "    df\n",
    "        .repartition(10)\n",
    "        .write\n",
    "        .mode(\"overwrite\")\n",
    "        .parquet(\"data/train.parquet\")\n",
    ")"
   ]
  },
  {
   "cell_type": "markdown",
   "id": "cc5b5e8f",
   "metadata": {},
   "source": [
    "Проверим размер сохраненного файла"
   ]
  },
  {
   "cell_type": "code",
   "execution_count": 9,
   "id": "5dae6028",
   "metadata": {},
   "outputs": [
    {
     "name": "stdout",
     "output_type": "stream",
     "text": [
      "Found 11 items\n",
      "-rw-r--r--   1 ubuntu hadoop          0 2024-10-30 11:38 data/train.parquet/_SUCCESS\n",
      "-rw-r--r--   1 ubuntu hadoop    181.2 M 2024-10-30 11:38 data/train.parquet/part-00000-c47d3bf3-328d-4d9f-bb55-22c503696cb9-c000.snappy.parquet\n",
      "-rw-r--r--   1 ubuntu hadoop    181.2 M 2024-10-30 11:38 data/train.parquet/part-00001-c47d3bf3-328d-4d9f-bb55-22c503696cb9-c000.snappy.parquet\n",
      "-rw-r--r--   1 ubuntu hadoop    181.0 M 2024-10-30 11:37 data/train.parquet/part-00002-c47d3bf3-328d-4d9f-bb55-22c503696cb9-c000.snappy.parquet\n",
      "-rw-r--r--   1 ubuntu hadoop    181.2 M 2024-10-30 11:38 data/train.parquet/part-00003-c47d3bf3-328d-4d9f-bb55-22c503696cb9-c000.snappy.parquet\n",
      "-rw-r--r--   1 ubuntu hadoop    181.2 M 2024-10-30 11:38 data/train.parquet/part-00004-c47d3bf3-328d-4d9f-bb55-22c503696cb9-c000.snappy.parquet\n",
      "-rw-r--r--   1 ubuntu hadoop    181.1 M 2024-10-30 11:37 data/train.parquet/part-00005-c47d3bf3-328d-4d9f-bb55-22c503696cb9-c000.snappy.parquet\n",
      "-rw-r--r--   1 ubuntu hadoop    181.0 M 2024-10-30 11:38 data/train.parquet/part-00006-c47d3bf3-328d-4d9f-bb55-22c503696cb9-c000.snappy.parquet\n",
      "-rw-r--r--   1 ubuntu hadoop    181.1 M 2024-10-30 11:38 data/train.parquet/part-00007-c47d3bf3-328d-4d9f-bb55-22c503696cb9-c000.snappy.parquet\n",
      "-rw-r--r--   1 ubuntu hadoop    180.9 M 2024-10-30 11:38 data/train.parquet/part-00008-c47d3bf3-328d-4d9f-bb55-22c503696cb9-c000.snappy.parquet\n",
      "-rw-r--r--   1 ubuntu hadoop    181.2 M 2024-10-30 11:38 data/train.parquet/part-00009-c47d3bf3-328d-4d9f-bb55-22c503696cb9-c000.snappy.parquet\n"
     ]
    }
   ],
   "source": [
    "!hdfs dfs -ls -h data/train.parquet"
   ]
  },
  {
   "cell_type": "markdown",
   "id": "76e2e9e6",
   "metadata": {},
   "source": [
    "Сравним скорость посчета строк из parquet"
   ]
  },
  {
   "cell_type": "code",
   "execution_count": 10,
   "id": "1f5332d6",
   "metadata": {},
   "outputs": [],
   "source": [
    "df_from_parquet = spark.read.parquet(\"data/train.parquet\")"
   ]
  },
  {
   "cell_type": "code",
   "execution_count": 11,
   "id": "f983a7e9",
   "metadata": {},
   "outputs": [
    {
     "name": "stdout",
     "output_type": "stream",
     "text": [
      "CPU times: user 2.15 ms, sys: 287 µs, total: 2.44 ms\n",
      "Wall time: 2 s\n"
     ]
    },
    {
     "data": {
      "text/plain": [
       "101230332"
      ]
     },
     "execution_count": 11,
     "metadata": {},
     "output_type": "execute_result"
    }
   ],
   "source": [
    "%%time\n",
    "df_from_parquet.count()"
   ]
  },
  {
   "cell_type": "code",
   "execution_count": null,
   "id": "6e98217c",
   "metadata": {},
   "outputs": [],
   "source": []
  }
 ],
 "metadata": {
  "kernelspec": {
   "display_name": "Python 3",
   "language": "python",
   "name": "python3"
  },
  "language_info": {
   "codemirror_mode": {
    "name": "ipython",
    "version": 3
   },
   "file_extension": ".py",
   "mimetype": "text/x-python",
   "name": "python",
   "nbconvert_exporter": "python",
   "pygments_lexer": "ipython3",
   "version": "3.8.10"
  }
 },
 "nbformat": 4,
 "nbformat_minor": 5
}
