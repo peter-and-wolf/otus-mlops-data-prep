{
 "cells": [
  {
   "cell_type": "markdown",
   "id": "88bb5194",
   "metadata": {},
   "source": [
    "## Пример на pyspark\n",
    "\n",
    "В качестве набора данных для примера будем использовать данные конкурса про ответы студентов на тесты\n",
    "https://www.kaggle.com/c/riiid-test-answer-prediction"
   ]
  },
  {
   "cell_type": "markdown",
   "id": "a998f2be",
   "metadata": {},
   "source": [
    "При подключении к spark драйверу установим лимиты по памяти и по числу ядер. Также выберем номер порта для Spark UI"
   ]
  },
  {
   "cell_type": "markdown",
   "id": "e8712420",
   "metadata": {},
   "source": [
    "Нужно выбрать уникальное имя приложения и номер порта, чтобы не войти в коллизию с другими пользователями"
   ]
  },
  {
   "cell_type": "code",
   "execution_count": 1,
   "id": "1f649736",
   "metadata": {},
   "outputs": [
    {
     "name": "stdout",
     "output_type": "stream",
     "text": [
      "Populating the interactive namespace from numpy and matplotlib\n"
     ]
    }
   ],
   "source": [
    "%pylab inline\n",
    "import pandas as pd\n",
    "import numpy as np"
   ]
  },
  {
   "cell_type": "code",
   "execution_count": 2,
   "id": "92de1abe",
   "metadata": {},
   "outputs": [],
   "source": [
    "import findspark\n",
    "findspark.init()"
   ]
  },
  {
   "cell_type": "code",
   "execution_count": 3,
   "id": "96fb2f68",
   "metadata": {},
   "outputs": [],
   "source": [
    "from pyspark.sql import SparkSession\n",
    "\n",
    "spark = (\n",
    "    SparkSession\n",
    "        .builder\n",
    "        .appName(\"OTUS-PySpark-Notebook\")\n",
    "        .config(\"spark.dynamicAllocation.enabled\", \"true\")\n",
    "        .config(\"spark.executor.memory\", \"2g\")\n",
    "        .config(\"spark.driver.memory\", \"1g\")\n",
    "        .getOrCreate()\n",
    ")"
   ]
  },
  {
   "cell_type": "markdown",
   "id": "68ec076d",
   "metadata": {},
   "source": [
    "Данные будем читать из заранее сконвертированного parquet"
   ]
  },
  {
   "cell_type": "code",
   "execution_count": 4,
   "id": "cdaeeca0",
   "metadata": {},
   "outputs": [],
   "source": [
    "df = spark.read.parquet(\"data/train.parquet\")"
   ]
  },
  {
   "cell_type": "markdown",
   "id": "0e7c6c12",
   "metadata": {},
   "source": [
    "Схема данных и первые 10 записей"
   ]
  },
  {
   "cell_type": "code",
   "execution_count": 5,
   "id": "c5b7c8f2",
   "metadata": {},
   "outputs": [
    {
     "name": "stdout",
     "output_type": "stream",
     "text": [
      "root\n",
      " |-- row_id: integer (nullable = true)\n",
      " |-- timestamp: long (nullable = true)\n",
      " |-- user_id: integer (nullable = true)\n",
      " |-- content_id: integer (nullable = true)\n",
      " |-- content_type_id: integer (nullable = true)\n",
      " |-- task_container_id: integer (nullable = true)\n",
      " |-- user_answer: integer (nullable = true)\n",
      " |-- answered_correctly: integer (nullable = true)\n",
      " |-- prior_question_elapsed_time: double (nullable = true)\n",
      " |-- prior_question_had_explanation: boolean (nullable = true)\n",
      "\n"
     ]
    }
   ],
   "source": [
    "df.printSchema()"
   ]
  },
  {
   "cell_type": "code",
   "execution_count": 6,
   "id": "eed2615b",
   "metadata": {},
   "outputs": [
    {
     "name": "stdout",
     "output_type": "stream",
     "text": [
      "+-------+-----------+--------+----------+---------------+-----------------+-----------+------------------+---------------------------+------------------------------+\n",
      "| row_id|  timestamp| user_id|content_id|content_type_id|task_container_id|user_answer|answered_correctly|prior_question_elapsed_time|prior_question_had_explanation|\n",
      "+-------+-----------+--------+----------+---------------+-----------------+-----------+------------------+---------------------------+------------------------------+\n",
      "|1590966|30069556424|33808123|     10345|              0|             2253|          0|                 1|                    20750.0|                          true|\n",
      "|1875768|35651077247|39733270|     10153|              0|             2405|          0|                 1|                    25250.0|                          true|\n",
      "|1614269| 1034449587|34226097|      3401|              0|              171|          1|                 1|                    31666.0|                          true|\n",
      "|1282661| 4128858947|27082418|      6869|              0|              161|          0|                 0|                    38000.0|                          true|\n",
      "|1249333| 1901589697|25861499|      6381|              0|              315|          0|                 1|                    26000.0|                          true|\n",
      "| 109916|17416341046| 2393889|      6028|              0|              359|          1|                 1|                    64000.0|                          true|\n",
      "| 950499| 3069106121|19629488|      3648|              0|             1167|          3|                 0|                    39000.0|                          true|\n",
      "| 986519|  190732026|20693956|      6791|              0|              127|          1|                 1|                    26000.0|                          true|\n",
      "|2129328|24775844512|44572629|       239|              0|              744|          3|                 0|                    14000.0|                          true|\n",
      "|1821608|27474183045|38513219|      1246|              0|             1188|          3|                 1|                    15000.0|                          true|\n",
      "+-------+-----------+--------+----------+---------------+-----------------+-----------+------------------+---------------------------+------------------------------+\n",
      "only showing top 10 rows\n",
      "\n"
     ]
    }
   ],
   "source": [
    "df.show(10)"
   ]
  },
  {
   "cell_type": "code",
   "execution_count": 7,
   "id": "8ec75696",
   "metadata": {},
   "outputs": [
    {
     "data": {
      "text/html": [
       "<table border='1'>\n",
       "<tr><th>row_id</th><th>timestamp</th><th>user_id</th><th>content_id</th><th>content_type_id</th><th>task_container_id</th><th>user_answer</th><th>answered_correctly</th><th>prior_question_elapsed_time</th><th>prior_question_had_explanation</th></tr>\n",
       "<tr><td>1590966</td><td>30069556424</td><td>33808123</td><td>10345</td><td>0</td><td>2253</td><td>0</td><td>1</td><td>20750.0</td><td>true</td></tr>\n",
       "<tr><td>1875768</td><td>35651077247</td><td>39733270</td><td>10153</td><td>0</td><td>2405</td><td>0</td><td>1</td><td>25250.0</td><td>true</td></tr>\n",
       "<tr><td>1614269</td><td>1034449587</td><td>34226097</td><td>3401</td><td>0</td><td>171</td><td>1</td><td>1</td><td>31666.0</td><td>true</td></tr>\n",
       "<tr><td>1282661</td><td>4128858947</td><td>27082418</td><td>6869</td><td>0</td><td>161</td><td>0</td><td>0</td><td>38000.0</td><td>true</td></tr>\n",
       "<tr><td>1249333</td><td>1901589697</td><td>25861499</td><td>6381</td><td>0</td><td>315</td><td>0</td><td>1</td><td>26000.0</td><td>true</td></tr>\n",
       "<tr><td>109916</td><td>17416341046</td><td>2393889</td><td>6028</td><td>0</td><td>359</td><td>1</td><td>1</td><td>64000.0</td><td>true</td></tr>\n",
       "<tr><td>950499</td><td>3069106121</td><td>19629488</td><td>3648</td><td>0</td><td>1167</td><td>3</td><td>0</td><td>39000.0</td><td>true</td></tr>\n",
       "<tr><td>986519</td><td>190732026</td><td>20693956</td><td>6791</td><td>0</td><td>127</td><td>1</td><td>1</td><td>26000.0</td><td>true</td></tr>\n",
       "<tr><td>2129328</td><td>24775844512</td><td>44572629</td><td>239</td><td>0</td><td>744</td><td>3</td><td>0</td><td>14000.0</td><td>true</td></tr>\n",
       "<tr><td>1821608</td><td>27474183045</td><td>38513219</td><td>1246</td><td>0</td><td>1188</td><td>3</td><td>1</td><td>15000.0</td><td>true</td></tr>\n",
       "<tr><td>1663212</td><td>35414423861</td><td>35440465</td><td>6266</td><td>0</td><td>1828</td><td>2</td><td>0</td><td>12000.0</td><td>true</td></tr>\n",
       "<tr><td>1649708</td><td>3612817678</td><td>35180268</td><td>6170</td><td>0</td><td>1251</td><td>0</td><td>1</td><td>110000.0</td><td>true</td></tr>\n",
       "<tr><td>589785</td><td>729611</td><td>11820045</td><td>7216</td><td>0</td><td>15</td><td>3</td><td>1</td><td>21000.0</td><td>false</td></tr>\n",
       "<tr><td>663972</td><td>7705537656</td><td>13475643</td><td>3551</td><td>0</td><td>547</td><td>0</td><td>1</td><td>8000.0</td><td>true</td></tr>\n",
       "<tr><td>920802</td><td>19378988</td><td>19345132</td><td>9162</td><td>0</td><td>91</td><td>3</td><td>1</td><td>13000.0</td><td>true</td></tr>\n",
       "<tr><td>42954</td><td>11572230842</td><td>1108148</td><td>8357</td><td>0</td><td>1820</td><td>3</td><td>1</td><td>24000.0</td><td>true</td></tr>\n",
       "<tr><td>2249847</td><td>514249869</td><td>47599178</td><td>4237</td><td>0</td><td>140</td><td>3</td><td>1</td><td>101000.0</td><td>true</td></tr>\n",
       "<tr><td>2374678</td><td>482572209</td><td>50812755</td><td>1968</td><td>0</td><td>178</td><td>0</td><td>0</td><td>15333.0</td><td>true</td></tr>\n",
       "<tr><td>1297966</td><td>291838996</td><td>27534834</td><td>1798</td><td>0</td><td>32</td><td>1</td><td>1</td><td>33000.0</td><td>true</td></tr>\n",
       "<tr><td>1584716</td><td>1376463385</td><td>33727417</td><td>10403</td><td>0</td><td>323</td><td>1</td><td>1</td><td>42000.0</td><td>true</td></tr>\n",
       "</table>\n",
       "only showing top 20 rows\n"
      ],
      "text/plain": [
       "+-------+-----------+--------+----------+---------------+-----------------+-----------+------------------+---------------------------+------------------------------+\n",
       "| row_id|  timestamp| user_id|content_id|content_type_id|task_container_id|user_answer|answered_correctly|prior_question_elapsed_time|prior_question_had_explanation|\n",
       "+-------+-----------+--------+----------+---------------+-----------------+-----------+------------------+---------------------------+------------------------------+\n",
       "|1590966|30069556424|33808123|     10345|              0|             2253|          0|                 1|                    20750.0|                          true|\n",
       "|1875768|35651077247|39733270|     10153|              0|             2405|          0|                 1|                    25250.0|                          true|\n",
       "|1614269| 1034449587|34226097|      3401|              0|              171|          1|                 1|                    31666.0|                          true|\n",
       "|1282661| 4128858947|27082418|      6869|              0|              161|          0|                 0|                    38000.0|                          true|\n",
       "|1249333| 1901589697|25861499|      6381|              0|              315|          0|                 1|                    26000.0|                          true|\n",
       "| 109916|17416341046| 2393889|      6028|              0|              359|          1|                 1|                    64000.0|                          true|\n",
       "| 950499| 3069106121|19629488|      3648|              0|             1167|          3|                 0|                    39000.0|                          true|\n",
       "| 986519|  190732026|20693956|      6791|              0|              127|          1|                 1|                    26000.0|                          true|\n",
       "|2129328|24775844512|44572629|       239|              0|              744|          3|                 0|                    14000.0|                          true|\n",
       "|1821608|27474183045|38513219|      1246|              0|             1188|          3|                 1|                    15000.0|                          true|\n",
       "|1663212|35414423861|35440465|      6266|              0|             1828|          2|                 0|                    12000.0|                          true|\n",
       "|1649708| 3612817678|35180268|      6170|              0|             1251|          0|                 1|                   110000.0|                          true|\n",
       "| 589785|     729611|11820045|      7216|              0|               15|          3|                 1|                    21000.0|                         false|\n",
       "| 663972| 7705537656|13475643|      3551|              0|              547|          0|                 1|                     8000.0|                          true|\n",
       "| 920802|   19378988|19345132|      9162|              0|               91|          3|                 1|                    13000.0|                          true|\n",
       "|  42954|11572230842| 1108148|      8357|              0|             1820|          3|                 1|                    24000.0|                          true|\n",
       "|2249847|  514249869|47599178|      4237|              0|              140|          3|                 1|                   101000.0|                          true|\n",
       "|2374678|  482572209|50812755|      1968|              0|              178|          0|                 0|                    15333.0|                          true|\n",
       "|1297966|  291838996|27534834|      1798|              0|               32|          1|                 1|                    33000.0|                          true|\n",
       "|1584716| 1376463385|33727417|     10403|              0|              323|          1|                 1|                    42000.0|                          true|\n",
       "+-------+-----------+--------+----------+---------------+-----------------+-----------+------------------+---------------------------+------------------------------+\n",
       "only showing top 20 rows"
      ]
     },
     "execution_count": 7,
     "metadata": {},
     "output_type": "execute_result"
    }
   ],
   "source": [
    "spark.conf.set('spark.sql.repl.eagerEval.enabled', True)  # to pretty print pyspark.DataFrame in jupyter\n",
    "df"
   ]
  },
  {
   "cell_type": "markdown",
   "id": "38fa908b",
   "metadata": {},
   "source": [
    "Замерим время выполнения простых запросов с группировками"
   ]
  },
  {
   "cell_type": "code",
   "execution_count": 8,
   "id": "8dd4e938",
   "metadata": {},
   "outputs": [],
   "source": [
    "from pyspark.sql import functions as f\n",
    "from pyspark.sql.functions import col"
   ]
  },
  {
   "cell_type": "code",
   "execution_count": 9,
   "id": "21c788dd",
   "metadata": {},
   "outputs": [
    {
     "name": "stdout",
     "output_type": "stream",
     "text": [
      "+----------+-----------------------+\n",
      "|content_id|avg(answered_correctly)|\n",
      "+----------+-----------------------+\n",
      "|      1342|     0.6960430741098187|\n",
      "|      8638|     0.4459175781681582|\n",
      "|      8389|     0.9217750257997936|\n",
      "|      1238|      0.597189012655275|\n",
      "|      4519|     0.4880797853928695|\n",
      "|      9376|     0.8307933662034962|\n",
      "|     10623|     0.9437243642329779|\n",
      "|      3918|     0.5936385255648038|\n",
      "|       471|     0.6837108953613807|\n",
      "|     23336|                   -1.0|\n",
      "|       148|     0.8297672832665587|\n",
      "|      6658|      0.662733319030251|\n",
      "|      3749|     0.6274719401389631|\n",
      "|      6620|     0.7847812401636765|\n",
      "|      7554|     0.8941355674028941|\n",
      "|      2122|     0.5887302396736359|\n",
      "|      4818|     0.4098718947459534|\n",
      "|       496|     0.7542558870632896|\n",
      "|      1829|     0.7589958158995815|\n",
      "|     10817|     0.7436510307738273|\n",
      "+----------+-----------------------+\n",
      "only showing top 20 rows\n",
      "\n",
      "CPU times: user 2.43 ms, sys: 4.31 ms, total: 6.74 ms\n",
      "Wall time: 5.95 s\n"
     ]
    }
   ],
   "source": [
    "%%time\n",
    "(\n",
    "    df\n",
    "        .select('content_id', 'answered_correctly')\n",
    "        .groupBy('content_id')\n",
    "        .mean('answered_correctly')\n",
    "        .show()\n",
    ")"
   ]
  },
  {
   "cell_type": "code",
   "execution_count": 10,
   "id": "7a41e7c6",
   "metadata": {},
   "outputs": [
    {
     "name": "stdout",
     "output_type": "stream",
     "text": [
      "+---------+-----------------------+\n",
      "|  user_id|avg(answered_correctly)|\n",
      "+---------+-----------------------+\n",
      "|238610111|     0.5106382978723404|\n",
      "|224426519|     0.7173333333333334|\n",
      "|253500385|     0.5285296981499513|\n",
      "|242039738|    0.46367041198501874|\n",
      "|252345392|       0.56480117820324|\n",
      "|240485154|     0.5521978021978022|\n",
      "|233395975|     0.5333333333333333|\n",
      "|254408119|     0.7657534246575343|\n",
      "|257509511|    0.49019607843137253|\n",
      "|245302461|     0.6613756613756614|\n",
      "|259875659|     0.6183574879227053|\n",
      "|243302977|     0.6267942583732058|\n",
      "|256909067|    0.29411764705882354|\n",
      "|220663840|     0.7661870503597122|\n",
      "|250727264|     0.5666666666666667|\n",
      "|240750690|     0.6890756302521008|\n",
      "|219176829|     0.5384615384615384|\n",
      "|254957588|     0.2702702702702703|\n",
      "|244175802|     0.7359550561797753|\n",
      "|252861630|               0.546875|\n",
      "+---------+-----------------------+\n",
      "only showing top 20 rows\n",
      "\n",
      "CPU times: user 4.08 ms, sys: 4.46 ms, total: 8.54 ms\n",
      "Wall time: 16.9 s\n"
     ]
    }
   ],
   "source": [
    "%%time\n",
    "(\n",
    "    df\n",
    "        .select('user_id', 'answered_correctly')\n",
    "        .where(col('answered_correctly') != -1)\n",
    "        .groupby('user_id')\n",
    "        .mean('answered_correctly')\n",
    "        .show()\n",
    ")"
   ]
  },
  {
   "cell_type": "markdown",
   "id": "4ccef2e5",
   "metadata": {},
   "source": [
    "## Упражнение 1\n",
    "Выведите top 10 студентов с наилучшими результатами. \n",
    "Обратите внимание, что поле answered_correctly равно -1, если это была лекция, а не тест. Такие записи нужно исключить."
   ]
  },
  {
   "cell_type": "code",
   "execution_count": null,
   "id": "9bb2b639",
   "metadata": {},
   "outputs": [],
   "source": []
  },
  {
   "cell_type": "markdown",
   "id": "2d3b0bcd",
   "metadata": {},
   "source": [
    "## Упражнение 2\n",
    "Выведите top 10 задач с наихудшими результатами"
   ]
  },
  {
   "cell_type": "code",
   "execution_count": null,
   "id": "54a490ed",
   "metadata": {},
   "outputs": [],
   "source": []
  },
  {
   "cell_type": "markdown",
   "id": "77b7b558",
   "metadata": {},
   "source": [
    "## pyspark user defined functions (UDF)\n",
    "\n",
    "Как и для других языков, поддерживаемых Spark, для python есть возможность использовать UDF. При этом возникают дополнительные накладные расходы по сравнению с Java и Scala."
   ]
  },
  {
   "cell_type": "code",
   "execution_count": 11,
   "id": "9f926751",
   "metadata": {},
   "outputs": [],
   "source": [
    "from pyspark.sql.types import LongType\n",
    "\n",
    "def to_months(ms):\n",
    "    return ms // 31536000000 // 12 #1 year = 31536000000 ms\n",
    "\n",
    "to_months_udf = f.udf(to_months, LongType())"
   ]
  },
  {
   "cell_type": "markdown",
   "id": "7773f2c6",
   "metadata": {},
   "source": [
    "Замерим время выполнения без UDF"
   ]
  },
  {
   "cell_type": "code",
   "execution_count": 12,
   "id": "e9ac8d67",
   "metadata": {},
   "outputs": [
    {
     "name": "stdout",
     "output_type": "stream",
     "text": [
      "+----------+--------------------+\n",
      "|content_id|      avg(timestamp)|\n",
      "+----------+--------------------+\n",
      "|     10362|1.091651063851827...|\n",
      "|      2366| 9.180255834014534E9|\n",
      "|      1580| 8.499988982626443E9|\n",
      "|      1342| 8.307796525376441E9|\n",
      "|      3997|1.016755047805518...|\n",
      "|      4818| 6.142197065523717E9|\n",
      "|      8592| 8.025769332450499E9|\n",
      "|      1238| 7.261110172361754E9|\n",
      "|      1645| 9.994734853553385E9|\n",
      "|      3749| 6.928784635868185E9|\n",
      "|       833|  8.54668654262351E9|\n",
      "|     23336| 7.288716371091926E9|\n",
      "|      9465| 9.754291493026693E9|\n",
      "|      5156| 6.836066048756999E9|\n",
      "|      4519| 5.839083879095016E9|\n",
      "|      7880| 6.134804397191137E9|\n",
      "|       496| 7.627430069740495E9|\n",
      "|      1959|1.010759745561863...|\n",
      "|      1591| 7.811043362183572E9|\n",
      "|      9900| 8.861819655241117E9|\n",
      "+----------+--------------------+\n",
      "only showing top 20 rows\n",
      "\n",
      "CPU times: user 6.59 ms, sys: 0 ns, total: 6.59 ms\n",
      "Wall time: 10.9 s\n"
     ]
    }
   ],
   "source": [
    "%%time\n",
    "(\n",
    "    df\n",
    "        .select(\"content_id\", \"timestamp\")\n",
    "        .groupby(\"content_id\")\n",
    "        .mean(\"timestamp\")\n",
    "        .show()\n",
    ")"
   ]
  },
  {
   "cell_type": "markdown",
   "id": "6dd8a724",
   "metadata": {},
   "source": [
    "Применим простой UDF к похожему запросу"
   ]
  },
  {
   "cell_type": "code",
   "execution_count": 13,
   "id": "41ebb9c7",
   "metadata": {},
   "outputs": [
    {
     "name": "stdout",
     "output_type": "stream",
     "text": [
      "+----------+-----------+\n",
      "|content_id|avg(months)|\n",
      "+----------+-----------+\n",
      "|      3749|        0.0|\n",
      "|      9852|        0.0|\n",
      "|       148|        0.0|\n",
      "|      7833|        0.0|\n",
      "|      8389|        0.0|\n",
      "|      4519|        0.0|\n",
      "|      7880|        0.0|\n",
      "|      4818|        0.0|\n",
      "|     11858|        0.0|\n",
      "|      6466|        0.0|\n",
      "|     10623|        0.0|\n",
      "|      6620|        0.0|\n",
      "|      5156|        0.0|\n",
      "|      3794|        0.0|\n",
      "|     13289|        0.0|\n",
      "|      1238|        0.0|\n",
      "|     10206|        0.0|\n",
      "|      4935|        0.0|\n",
      "|       496|        0.0|\n",
      "|      8086|        0.0|\n",
      "+----------+-----------+\n",
      "only showing top 20 rows\n",
      "\n",
      "CPU times: user 21.4 ms, sys: 212 µs, total: 21.6 ms\n",
      "Wall time: 1min 21s\n"
     ]
    }
   ],
   "source": [
    "%%time\n",
    "(\n",
    "    df\n",
    "        .select(\"content_id\", to_months_udf(\"timestamp\").alias(\"months\"))\n",
    "        .groupBy(\"content_id\")\n",
    "        .mean(\"months\")\n",
    "        .show()\n",
    ")"
   ]
  },
  {
   "cell_type": "markdown",
   "id": "94024bcd",
   "metadata": {},
   "source": [
    "Перепишем логику, которая была в UDF"
   ]
  },
  {
   "cell_type": "code",
   "execution_count": 14,
   "id": "0193ec6b",
   "metadata": {},
   "outputs": [
    {
     "name": "stdout",
     "output_type": "stream",
     "text": [
      "+----------+--------------------+\n",
      "|content_id|         avg(months)|\n",
      "+----------+--------------------+\n",
      "|      1342| 0.02195320830526077|\n",
      "|      8638|0.026568053084666098|\n",
      "|      8389|0.023038468581201264|\n",
      "|      1238| 0.01918735776139902|\n",
      "|      4519|0.015429677931821345|\n",
      "|      9376|0.023047010695516096|\n",
      "|     10623| 0.02441428905667462|\n",
      "|      3918|0.020248593705688527|\n",
      "|       471|0.026115179467367237|\n",
      "|     23336|0.019260306662998702|\n",
      "|       148|0.017910791660268707|\n",
      "|      6658|0.025049151627509217|\n",
      "|      3749|0.018309193291973693|\n",
      "|      6620|0.022097287253877614|\n",
      "|      7554|0.030580929715970585|\n",
      "|      2122| 0.02605702050124899|\n",
      "|      4818|  0.0162306492725872|\n",
      "|       496|0.020155351740181838|\n",
      "|      1829|0.024396345388877146|\n",
      "|     10817|0.035670606454313726|\n",
      "+----------+--------------------+\n",
      "only showing top 20 rows\n",
      "\n",
      "CPU times: user 0 ns, sys: 9.87 ms, total: 9.87 ms\n",
      "Wall time: 10.5 s\n"
     ]
    }
   ],
   "source": [
    "%%time\n",
    "(\n",
    "    df\n",
    "        .select(\"content_id\", (col(\"timestamp\") / 31536000000 / 12).alias(\"months\"))\n",
    "        .groupby(\"content_id\")\n",
    "        .mean(\"months\")\n",
    "        .show()\n",
    ")"
   ]
  },
  {
   "cell_type": "markdown",
   "id": "b903a4e6",
   "metadata": {},
   "source": [
    "## Упражнение 3\n",
    "Постройте гистограмму по числу месяцев до первого взаимодействия студента с заданием"
   ]
  },
  {
   "cell_type": "code",
   "execution_count": 20,
   "id": "cae6caac",
   "metadata": {},
   "outputs": [
    {
     "name": "stdout",
     "output_type": "stream",
     "text": [
      "CPU times: user 52.3 ms, sys: 405 µs, total: 52.8 ms\n",
      "Wall time: 7.22 s\n"
     ]
    }
   ],
   "source": [
    "%%time\n",
    "df_pandas = (\n",
    "    df\n",
    "        .select(\"content_id\", (col(\"timestamp\") / 31536000000 / 12).alias(\"months\"))\n",
    "        .groupby(\"content_id\")\n",
    "        .mean(\"months\")\n",
    "        .toPandas()\n",
    ")"
   ]
  },
  {
   "cell_type": "code",
   "execution_count": 21,
   "id": "a721dc39",
   "metadata": {},
   "outputs": [
    {
     "data": {
      "text/html": [
       "<div>\n",
       "<style scoped>\n",
       "    .dataframe tbody tr th:only-of-type {\n",
       "        vertical-align: middle;\n",
       "    }\n",
       "\n",
       "    .dataframe tbody tr th {\n",
       "        vertical-align: top;\n",
       "    }\n",
       "\n",
       "    .dataframe thead th {\n",
       "        text-align: right;\n",
       "    }\n",
       "</style>\n",
       "<table border=\"1\" class=\"dataframe\">\n",
       "  <thead>\n",
       "    <tr style=\"text-align: right;\">\n",
       "      <th></th>\n",
       "      <th>content_id</th>\n",
       "      <th>avg(months)</th>\n",
       "    </tr>\n",
       "  </thead>\n",
       "  <tbody>\n",
       "    <tr>\n",
       "      <th>0</th>\n",
       "      <td>10623</td>\n",
       "      <td>0.024414</td>\n",
       "    </tr>\n",
       "    <tr>\n",
       "      <th>1</th>\n",
       "      <td>1829</td>\n",
       "      <td>0.024396</td>\n",
       "    </tr>\n",
       "    <tr>\n",
       "      <th>2</th>\n",
       "      <td>4101</td>\n",
       "      <td>0.025990</td>\n",
       "    </tr>\n",
       "    <tr>\n",
       "      <th>3</th>\n",
       "      <td>4818</td>\n",
       "      <td>0.016231</td>\n",
       "    </tr>\n",
       "    <tr>\n",
       "      <th>4</th>\n",
       "      <td>1238</td>\n",
       "      <td>0.019187</td>\n",
       "    </tr>\n",
       "  </tbody>\n",
       "</table>\n",
       "</div>"
      ],
      "text/plain": [
       "   content_id  avg(months)\n",
       "0       10623     0.024414\n",
       "1        1829     0.024396\n",
       "2        4101     0.025990\n",
       "3        4818     0.016231\n",
       "4        1238     0.019187"
      ]
     },
     "execution_count": 21,
     "metadata": {},
     "output_type": "execute_result"
    }
   ],
   "source": [
    "df_pandas.head()"
   ]
  },
  {
   "cell_type": "code",
   "execution_count": null,
   "id": "18068a3f",
   "metadata": {},
   "outputs": [],
   "source": []
  },
  {
   "cell_type": "markdown",
   "id": "398fc616",
   "metadata": {},
   "source": [
    "## Обогащение данных"
   ]
  },
  {
   "cell_type": "markdown",
   "id": "7fb6a453",
   "metadata": {},
   "source": [
    "Таблица с вопросами лежит в отдельном файле questions.csv. "
   ]
  },
  {
   "cell_type": "code",
   "execution_count": 15,
   "id": "0f908774",
   "metadata": {},
   "outputs": [],
   "source": [
    "questions = spark.read.csv(\"data/questions.csv\", header=True, inferSchema=True)"
   ]
  },
  {
   "cell_type": "code",
   "execution_count": 16,
   "id": "b2c9391a",
   "metadata": {},
   "outputs": [
    {
     "data": {
      "text/plain": [
       "13523"
      ]
     },
     "execution_count": 16,
     "metadata": {},
     "output_type": "execute_result"
    }
   ],
   "source": [
    "questions.count()"
   ]
  },
  {
   "cell_type": "code",
   "execution_count": 24,
   "id": "14ef1969",
   "metadata": {},
   "outputs": [
    {
     "name": "stdout",
     "output_type": "stream",
     "text": [
      "root\n",
      " |-- question_id: integer (nullable = true)\n",
      " |-- bundle_id: integer (nullable = true)\n",
      " |-- correct_answer: integer (nullable = true)\n",
      " |-- part: integer (nullable = true)\n",
      " |-- tags: string (nullable = true)\n",
      "\n"
     ]
    }
   ],
   "source": [
    "questions.printSchema()"
   ]
  },
  {
   "cell_type": "markdown",
   "id": "f16dc3d8",
   "metadata": {},
   "source": [
    "Объединим ее с ответами при условии, что эта запись ссылкается на вопрос если content_type_id и content_id - идентификатор вопроса."
   ]
  },
  {
   "cell_type": "code",
   "execution_count": 17,
   "id": "359752d2",
   "metadata": {},
   "outputs": [],
   "source": [
    "df_join = (\n",
    "    df\n",
    "        .where(f.col(\"content_type_id\") == 0)\n",
    "        .join(questions, df.content_id == questions.question_id, 'left')\n",
    ")"
   ]
  },
  {
   "cell_type": "code",
   "execution_count": 18,
   "id": "5ae2cbad",
   "metadata": {},
   "outputs": [
    {
     "data": {
      "text/html": [
       "<table border='1'>\n",
       "<tr><th>row_id</th><th>timestamp</th><th>user_id</th><th>content_id</th><th>content_type_id</th><th>task_container_id</th><th>user_answer</th><th>answered_correctly</th><th>prior_question_elapsed_time</th><th>prior_question_had_explanation</th><th>question_id</th><th>bundle_id</th><th>correct_answer</th><th>part</th><th>tags</th></tr>\n",
       "<tr><td>1590966</td><td>30069556424</td><td>33808123</td><td>10345</td><td>0</td><td>2253</td><td>0</td><td>1</td><td>20750.0</td><td>true</td><td>10345</td><td>10344</td><td>0</td><td>6</td><td>27</td></tr>\n",
       "<tr><td>1875768</td><td>35651077247</td><td>39733270</td><td>10153</td><td>0</td><td>2405</td><td>0</td><td>1</td><td>25250.0</td><td>true</td><td>10153</td><td>10152</td><td>0</td><td>6</td><td>14</td></tr>\n",
       "<tr><td>1614269</td><td>1034449587</td><td>34226097</td><td>3401</td><td>0</td><td>171</td><td>1</td><td>1</td><td>31666.0</td><td>true</td><td>3401</td><td>3399</td><td>1</td><td>4</td><td>136 144 81</td></tr>\n",
       "<tr><td>1282661</td><td>4128858947</td><td>27082418</td><td>6869</td><td>0</td><td>161</td><td>0</td><td>0</td><td>38000.0</td><td>true</td><td>6869</td><td>6869</td><td>1</td><td>6</td><td>8 162</td></tr>\n",
       "<tr><td>1249333</td><td>1901589697</td><td>25861499</td><td>6381</td><td>0</td><td>315</td><td>0</td><td>1</td><td>26000.0</td><td>true</td><td>6381</td><td>6381</td><td>0</td><td>5</td><td>4</td></tr>\n",
       "<tr><td>109916</td><td>17416341046</td><td>2393889</td><td>6028</td><td>0</td><td>359</td><td>1</td><td>1</td><td>64000.0</td><td>true</td><td>6028</td><td>6028</td><td>1</td><td>5</td><td>72</td></tr>\n",
       "<tr><td>950499</td><td>3069106121</td><td>19629488</td><td>3648</td><td>0</td><td>1167</td><td>3</td><td>0</td><td>39000.0</td><td>true</td><td>3648</td><td>3648</td><td>1</td><td>5</td><td>55</td></tr>\n",
       "<tr><td>986519</td><td>190732026</td><td>20693956</td><td>6791</td><td>0</td><td>127</td><td>1</td><td>1</td><td>26000.0</td><td>true</td><td>6791</td><td>6789</td><td>1</td><td>6</td><td>27 162</td></tr>\n",
       "<tr><td>2129328</td><td>24775844512</td><td>44572629</td><td>239</td><td>0</td><td>744</td><td>3</td><td>0</td><td>14000.0</td><td>true</td><td>239</td><td>239</td><td>0</td><td>2</td><td>155 163 38 102</td></tr>\n",
       "<tr><td>1821608</td><td>27474183045</td><td>38513219</td><td>1246</td><td>0</td><td>1188</td><td>3</td><td>1</td><td>15000.0</td><td>true</td><td>1246</td><td>1246</td><td>3</td><td>2</td><td>2 32 92 29</td></tr>\n",
       "<tr><td>1663212</td><td>35414423861</td><td>35440465</td><td>6266</td><td>0</td><td>1828</td><td>2</td><td>0</td><td>12000.0</td><td>true</td><td>6266</td><td>6266</td><td>0</td><td>5</td><td>116</td></tr>\n",
       "<tr><td>1649708</td><td>3612817678</td><td>35180268</td><td>6170</td><td>0</td><td>1251</td><td>0</td><td>1</td><td>110000.0</td><td>true</td><td>6170</td><td>6170</td><td>0</td><td>5</td><td>73</td></tr>\n",
       "<tr><td>589785</td><td>729611</td><td>11820045</td><td>7216</td><td>0</td><td>15</td><td>3</td><td>1</td><td>21000.0</td><td>false</td><td>7216</td><td>7216</td><td>3</td><td>7</td><td>97 50 21</td></tr>\n",
       "<tr><td>663972</td><td>7705537656</td><td>13475643</td><td>3551</td><td>0</td><td>547</td><td>0</td><td>1</td><td>8000.0</td><td>true</td><td>3551</td><td>3551</td><td>0</td><td>5</td><td>8</td></tr>\n",
       "<tr><td>920802</td><td>19378988</td><td>19345132</td><td>9162</td><td>0</td><td>91</td><td>3</td><td>1</td><td>13000.0</td><td>true</td><td>9162</td><td>9162</td><td>3</td><td>5</td><td>1</td></tr>\n",
       "<tr><td>42954</td><td>11572230842</td><td>1108148</td><td>8357</td><td>0</td><td>1820</td><td>3</td><td>1</td><td>24000.0</td><td>true</td><td>8357</td><td>8357</td><td>3</td><td>5</td><td>73</td></tr>\n",
       "<tr><td>2249847</td><td>514249869</td><td>47599178</td><td>4237</td><td>0</td><td>140</td><td>3</td><td>1</td><td>101000.0</td><td>true</td><td>4237</td><td>4237</td><td>3</td><td>5</td><td>31</td></tr>\n",
       "<tr><td>2374678</td><td>482572209</td><td>50812755</td><td>1968</td><td>0</td><td>178</td><td>0</td><td>0</td><td>15333.0</td><td>true</td><td>1968</td><td>1967</td><td>2</td><td>3</td><td>82 38 81</td></tr>\n",
       "<tr><td>1297966</td><td>291838996</td><td>27534834</td><td>1798</td><td>0</td><td>32</td><td>1</td><td>1</td><td>33000.0</td><td>true</td><td>1798</td><td>1796</td><td>1</td><td>3</td><td>136 162 92 29</td></tr>\n",
       "<tr><td>1584716</td><td>1376463385</td><td>33727417</td><td>10403</td><td>0</td><td>323</td><td>1</td><td>1</td><td>42000.0</td><td>true</td><td>10403</td><td>10403</td><td>1</td><td>1</td><td>131 99 81</td></tr>\n",
       "</table>\n",
       "only showing top 20 rows\n"
      ],
      "text/plain": [
       "+-------+-----------+--------+----------+---------------+-----------------+-----------+------------------+---------------------------+------------------------------+-----------+---------+--------------+----+--------------+\n",
       "| row_id|  timestamp| user_id|content_id|content_type_id|task_container_id|user_answer|answered_correctly|prior_question_elapsed_time|prior_question_had_explanation|question_id|bundle_id|correct_answer|part|          tags|\n",
       "+-------+-----------+--------+----------+---------------+-----------------+-----------+------------------+---------------------------+------------------------------+-----------+---------+--------------+----+--------------+\n",
       "|1590966|30069556424|33808123|     10345|              0|             2253|          0|                 1|                    20750.0|                          true|      10345|    10344|             0|   6|            27|\n",
       "|1875768|35651077247|39733270|     10153|              0|             2405|          0|                 1|                    25250.0|                          true|      10153|    10152|             0|   6|            14|\n",
       "|1614269| 1034449587|34226097|      3401|              0|              171|          1|                 1|                    31666.0|                          true|       3401|     3399|             1|   4|    136 144 81|\n",
       "|1282661| 4128858947|27082418|      6869|              0|              161|          0|                 0|                    38000.0|                          true|       6869|     6869|             1|   6|         8 162|\n",
       "|1249333| 1901589697|25861499|      6381|              0|              315|          0|                 1|                    26000.0|                          true|       6381|     6381|             0|   5|             4|\n",
       "| 109916|17416341046| 2393889|      6028|              0|              359|          1|                 1|                    64000.0|                          true|       6028|     6028|             1|   5|            72|\n",
       "| 950499| 3069106121|19629488|      3648|              0|             1167|          3|                 0|                    39000.0|                          true|       3648|     3648|             1|   5|            55|\n",
       "| 986519|  190732026|20693956|      6791|              0|              127|          1|                 1|                    26000.0|                          true|       6791|     6789|             1|   6|        27 162|\n",
       "|2129328|24775844512|44572629|       239|              0|              744|          3|                 0|                    14000.0|                          true|        239|      239|             0|   2|155 163 38 102|\n",
       "|1821608|27474183045|38513219|      1246|              0|             1188|          3|                 1|                    15000.0|                          true|       1246|     1246|             3|   2|    2 32 92 29|\n",
       "|1663212|35414423861|35440465|      6266|              0|             1828|          2|                 0|                    12000.0|                          true|       6266|     6266|             0|   5|           116|\n",
       "|1649708| 3612817678|35180268|      6170|              0|             1251|          0|                 1|                   110000.0|                          true|       6170|     6170|             0|   5|            73|\n",
       "| 589785|     729611|11820045|      7216|              0|               15|          3|                 1|                    21000.0|                         false|       7216|     7216|             3|   7|      97 50 21|\n",
       "| 663972| 7705537656|13475643|      3551|              0|              547|          0|                 1|                     8000.0|                          true|       3551|     3551|             0|   5|             8|\n",
       "| 920802|   19378988|19345132|      9162|              0|               91|          3|                 1|                    13000.0|                          true|       9162|     9162|             3|   5|             1|\n",
       "|  42954|11572230842| 1108148|      8357|              0|             1820|          3|                 1|                    24000.0|                          true|       8357|     8357|             3|   5|            73|\n",
       "|2249847|  514249869|47599178|      4237|              0|              140|          3|                 1|                   101000.0|                          true|       4237|     4237|             3|   5|            31|\n",
       "|2374678|  482572209|50812755|      1968|              0|              178|          0|                 0|                    15333.0|                          true|       1968|     1967|             2|   3|      82 38 81|\n",
       "|1297966|  291838996|27534834|      1798|              0|               32|          1|                 1|                    33000.0|                          true|       1798|     1796|             1|   3| 136 162 92 29|\n",
       "|1584716| 1376463385|33727417|     10403|              0|              323|          1|                 1|                    42000.0|                          true|      10403|    10403|             1|   1|     131 99 81|\n",
       "+-------+-----------+--------+----------+---------------+-----------------+-----------+------------------+---------------------------+------------------------------+-----------+---------+--------------+----+--------------+\n",
       "only showing top 20 rows"
      ]
     },
     "execution_count": 18,
     "metadata": {},
     "output_type": "execute_result"
    }
   ],
   "source": [
    "df_join"
   ]
  },
  {
   "cell_type": "code",
   "execution_count": 19,
   "id": "264f00c6",
   "metadata": {},
   "outputs": [
    {
     "data": {
      "text/plain": [
       "99271300"
      ]
     },
     "execution_count": 19,
     "metadata": {},
     "output_type": "execute_result"
    }
   ],
   "source": [
    "df_join.count()"
   ]
  },
  {
   "cell_type": "markdown",
   "id": "ba1e56be",
   "metadata": {},
   "source": [
    "Проверим, что вероястность правильного ответа не зависит от его номера."
   ]
  },
  {
   "cell_type": "code",
   "execution_count": 20,
   "id": "61aab64d",
   "metadata": {},
   "outputs": [
    {
     "name": "stdout",
     "output_type": "stream",
     "text": [
      "+--------------+-----------------------+\n",
      "|correct_answer|avg(answered_correctly)|\n",
      "+--------------+-----------------------+\n",
      "|             1|     0.6728072675886204|\n",
      "|             3|     0.6592246990371898|\n",
      "|             2|     0.6192199974012494|\n",
      "|             0|     0.6674206042887552|\n",
      "+--------------+-----------------------+\n",
      "\n",
      "CPU times: user 1.84 ms, sys: 3.98 ms, total: 5.82 ms\n",
      "Wall time: 9.39 s\n"
     ]
    }
   ],
   "source": [
    "%%time\n",
    "(\n",
    "    df_join\n",
    "        .select('correct_answer', 'answered_correctly')\n",
    "        .groupby('correct_answer')\n",
    "        .mean('answered_correctly')\n",
    "        .show()\n",
    ")"
   ]
  },
  {
   "cell_type": "code",
   "execution_count": 21,
   "id": "2d95d649",
   "metadata": {},
   "outputs": [
    {
     "ename": "Py4JJavaError",
     "evalue": "An error occurred while calling o185.collectToPython.\n: org.apache.spark.SparkException: Job aborted due to stage failure: Task 5 in stage 37.0 failed 4 times, most recent failure: Lost task 5.3 in stage 37.0 (TID 361, rc1a-dataproc-d-3rn07j4v9i4tt8sr.mdb.yandexcloud.net, executor 33): ExecutorLostFailure (executor 33 exited caused by one of the running tasks) Reason: Container from a bad node: container_1730310288524_0002_01_000050 on host: rc1a-dataproc-d-3rn07j4v9i4tt8sr.mdb.yandexcloud.net. Exit status: 137. Diagnostics: [2024-10-30 18:41:59.680]Container killed on request. Exit code is 137\n[2024-10-30 18:41:59.681]Container exited with a non-zero exit code 137. \n[2024-10-30 18:41:59.681]Killed by external signal\n.\nDriver stacktrace:\n\tat org.apache.spark.scheduler.DAGScheduler.failJobAndIndependentStages(DAGScheduler.scala:2059)\n\tat org.apache.spark.scheduler.DAGScheduler.$anonfun$abortStage$2(DAGScheduler.scala:2008)\n\tat org.apache.spark.scheduler.DAGScheduler.$anonfun$abortStage$2$adapted(DAGScheduler.scala:2007)\n\tat scala.collection.mutable.ResizableArray.foreach(ResizableArray.scala:62)\n\tat scala.collection.mutable.ResizableArray.foreach$(ResizableArray.scala:55)\n\tat scala.collection.mutable.ArrayBuffer.foreach(ArrayBuffer.scala:49)\n\tat org.apache.spark.scheduler.DAGScheduler.abortStage(DAGScheduler.scala:2007)\n\tat org.apache.spark.scheduler.DAGScheduler.$anonfun$handleTaskSetFailed$1(DAGScheduler.scala:973)\n\tat org.apache.spark.scheduler.DAGScheduler.$anonfun$handleTaskSetFailed$1$adapted(DAGScheduler.scala:973)\n\tat scala.Option.foreach(Option.scala:407)\n\tat org.apache.spark.scheduler.DAGScheduler.handleTaskSetFailed(DAGScheduler.scala:973)\n\tat org.apache.spark.scheduler.DAGSchedulerEventProcessLoop.doOnReceive(DAGScheduler.scala:2239)\n\tat org.apache.spark.scheduler.DAGSchedulerEventProcessLoop.onReceive(DAGScheduler.scala:2188)\n\tat org.apache.spark.scheduler.DAGSchedulerEventProcessLoop.onReceive(DAGScheduler.scala:2177)\n\tat org.apache.spark.util.EventLoop$$anon$1.run(EventLoop.scala:49)\n\tat org.apache.spark.scheduler.DAGScheduler.runJob(DAGScheduler.scala:775)\n\tat org.apache.spark.SparkContext.runJob(SparkContext.scala:2114)\n\tat org.apache.spark.SparkContext.runJob(SparkContext.scala:2135)\n\tat org.apache.spark.SparkContext.runJob(SparkContext.scala:2154)\n\tat org.apache.spark.SparkContext.runJob(SparkContext.scala:2179)\n\tat org.apache.spark.rdd.RDD.$anonfun$collect$1(RDD.scala:1004)\n\tat org.apache.spark.rdd.RDDOperationScope$.withScope(RDDOperationScope.scala:151)\n\tat org.apache.spark.rdd.RDDOperationScope$.withScope(RDDOperationScope.scala:112)\n\tat org.apache.spark.rdd.RDD.withScope(RDD.scala:388)\n\tat org.apache.spark.rdd.RDD.collect(RDD.scala:1003)\n\tat org.apache.spark.sql.execution.SparkPlan.executeCollect(SparkPlan.scala:390)\n\tat org.apache.spark.sql.Dataset.$anonfun$collectToPython$1(Dataset.scala:3450)\n\tat org.apache.spark.sql.Dataset.$anonfun$withAction$1(Dataset.scala:3618)\n\tat org.apache.spark.sql.execution.SQLExecution$.$anonfun$withNewExecutionId$5(SQLExecution.scala:100)\n\tat org.apache.spark.sql.execution.SQLExecution$.withSQLConfPropagated(SQLExecution.scala:160)\n\tat org.apache.spark.sql.execution.SQLExecution$.$anonfun$withNewExecutionId$1(SQLExecution.scala:87)\n\tat org.apache.spark.sql.SparkSession.withActive(SparkSession.scala:767)\n\tat org.apache.spark.sql.execution.SQLExecution$.withNewExecutionId(SQLExecution.scala:64)\n\tat org.apache.spark.sql.Dataset.withAction(Dataset.scala:3616)\n\tat org.apache.spark.sql.Dataset.collectToPython(Dataset.scala:3447)\n\tat sun.reflect.NativeMethodAccessorImpl.invoke0(Native Method)\n\tat sun.reflect.NativeMethodAccessorImpl.invoke(NativeMethodAccessorImpl.java:62)\n\tat sun.reflect.DelegatingMethodAccessorImpl.invoke(DelegatingMethodAccessorImpl.java:43)\n\tat java.lang.reflect.Method.invoke(Method.java:498)\n\tat py4j.reflection.MethodInvoker.invoke(MethodInvoker.java:244)\n\tat py4j.reflection.ReflectionEngine.invoke(ReflectionEngine.java:357)\n\tat py4j.Gateway.invoke(Gateway.java:282)\n\tat py4j.commands.AbstractCommand.invokeMethod(AbstractCommand.java:132)\n\tat py4j.commands.CallCommand.execute(CallCommand.java:79)\n\tat py4j.GatewayConnection.run(GatewayConnection.java:238)\n\tat java.lang.Thread.run(Thread.java:750)\n",
     "output_type": "error",
     "traceback": [
      "\u001b[0;31m---------------------------------------------------------------------------\u001b[0m",
      "\u001b[0;31mPy4JJavaError\u001b[0m                             Traceback (most recent call last)",
      "\u001b[0;32m<ipython-input-21-4b13fe154b54>\u001b[0m in \u001b[0;36m<module>\u001b[0;34m\u001b[0m\n\u001b[0;32m----> 1\u001b[0;31m \u001b[0mdf_join\u001b[0m\u001b[0;34m.\u001b[0m\u001b[0mtoPandas\u001b[0m\u001b[0;34m(\u001b[0m\u001b[0;34m)\u001b[0m\u001b[0;34m.\u001b[0m\u001b[0mhead\u001b[0m\u001b[0;34m(\u001b[0m\u001b[0;34m)\u001b[0m\u001b[0;34m\u001b[0m\u001b[0;34m\u001b[0m\u001b[0m\n\u001b[0m",
      "\u001b[0;32m/usr/lib/spark/python/pyspark/sql/pandas/conversion.py\u001b[0m in \u001b[0;36mtoPandas\u001b[0;34m(self)\u001b[0m\n\u001b[1;32m    136\u001b[0m \u001b[0;34m\u001b[0m\u001b[0m\n\u001b[1;32m    137\u001b[0m         \u001b[0;31m# Below is toPandas without Arrow optimization.\u001b[0m\u001b[0;34m\u001b[0m\u001b[0;34m\u001b[0m\u001b[0;34m\u001b[0m\u001b[0m\n\u001b[0;32m--> 138\u001b[0;31m         \u001b[0mpdf\u001b[0m \u001b[0;34m=\u001b[0m \u001b[0mpd\u001b[0m\u001b[0;34m.\u001b[0m\u001b[0mDataFrame\u001b[0m\u001b[0;34m.\u001b[0m\u001b[0mfrom_records\u001b[0m\u001b[0;34m(\u001b[0m\u001b[0mself\u001b[0m\u001b[0;34m.\u001b[0m\u001b[0mcollect\u001b[0m\u001b[0;34m(\u001b[0m\u001b[0;34m)\u001b[0m\u001b[0;34m,\u001b[0m \u001b[0mcolumns\u001b[0m\u001b[0;34m=\u001b[0m\u001b[0mself\u001b[0m\u001b[0;34m.\u001b[0m\u001b[0mcolumns\u001b[0m\u001b[0;34m)\u001b[0m\u001b[0;34m\u001b[0m\u001b[0;34m\u001b[0m\u001b[0m\n\u001b[0m\u001b[1;32m    139\u001b[0m         \u001b[0mcolumn_counter\u001b[0m \u001b[0;34m=\u001b[0m \u001b[0mCounter\u001b[0m\u001b[0;34m(\u001b[0m\u001b[0mself\u001b[0m\u001b[0;34m.\u001b[0m\u001b[0mcolumns\u001b[0m\u001b[0;34m)\u001b[0m\u001b[0;34m\u001b[0m\u001b[0;34m\u001b[0m\u001b[0m\n\u001b[1;32m    140\u001b[0m \u001b[0;34m\u001b[0m\u001b[0m\n",
      "\u001b[0;32m/usr/lib/spark/python/pyspark/sql/dataframe.py\u001b[0m in \u001b[0;36mcollect\u001b[0;34m(self)\u001b[0m\n\u001b[1;32m    594\u001b[0m         \"\"\"\n\u001b[1;32m    595\u001b[0m         \u001b[0;32mwith\u001b[0m \u001b[0mSCCallSiteSync\u001b[0m\u001b[0;34m(\u001b[0m\u001b[0mself\u001b[0m\u001b[0;34m.\u001b[0m\u001b[0m_sc\u001b[0m\u001b[0;34m)\u001b[0m \u001b[0;32mas\u001b[0m \u001b[0mcss\u001b[0m\u001b[0;34m:\u001b[0m\u001b[0;34m\u001b[0m\u001b[0;34m\u001b[0m\u001b[0m\n\u001b[0;32m--> 596\u001b[0;31m             \u001b[0msock_info\u001b[0m \u001b[0;34m=\u001b[0m \u001b[0mself\u001b[0m\u001b[0;34m.\u001b[0m\u001b[0m_jdf\u001b[0m\u001b[0;34m.\u001b[0m\u001b[0mcollectToPython\u001b[0m\u001b[0;34m(\u001b[0m\u001b[0;34m)\u001b[0m\u001b[0;34m\u001b[0m\u001b[0;34m\u001b[0m\u001b[0m\n\u001b[0m\u001b[1;32m    597\u001b[0m         \u001b[0;32mreturn\u001b[0m \u001b[0mlist\u001b[0m\u001b[0;34m(\u001b[0m\u001b[0m_load_from_socket\u001b[0m\u001b[0;34m(\u001b[0m\u001b[0msock_info\u001b[0m\u001b[0;34m,\u001b[0m \u001b[0mBatchedSerializer\u001b[0m\u001b[0;34m(\u001b[0m\u001b[0mPickleSerializer\u001b[0m\u001b[0;34m(\u001b[0m\u001b[0;34m)\u001b[0m\u001b[0;34m)\u001b[0m\u001b[0;34m)\u001b[0m\u001b[0;34m)\u001b[0m\u001b[0;34m\u001b[0m\u001b[0;34m\u001b[0m\u001b[0m\n\u001b[1;32m    598\u001b[0m \u001b[0;34m\u001b[0m\u001b[0m\n",
      "\u001b[0;32m/usr/lib/spark/python/lib/py4j-0.10.9-src.zip/py4j/java_gateway.py\u001b[0m in \u001b[0;36m__call__\u001b[0;34m(self, *args)\u001b[0m\n\u001b[1;32m   1302\u001b[0m \u001b[0;34m\u001b[0m\u001b[0m\n\u001b[1;32m   1303\u001b[0m         \u001b[0manswer\u001b[0m \u001b[0;34m=\u001b[0m \u001b[0mself\u001b[0m\u001b[0;34m.\u001b[0m\u001b[0mgateway_client\u001b[0m\u001b[0;34m.\u001b[0m\u001b[0msend_command\u001b[0m\u001b[0;34m(\u001b[0m\u001b[0mcommand\u001b[0m\u001b[0;34m)\u001b[0m\u001b[0;34m\u001b[0m\u001b[0;34m\u001b[0m\u001b[0m\n\u001b[0;32m-> 1304\u001b[0;31m         return_value = get_return_value(\n\u001b[0m\u001b[1;32m   1305\u001b[0m             answer, self.gateway_client, self.target_id, self.name)\n\u001b[1;32m   1306\u001b[0m \u001b[0;34m\u001b[0m\u001b[0m\n",
      "\u001b[0;32m/usr/lib/spark/python/pyspark/sql/utils.py\u001b[0m in \u001b[0;36mdeco\u001b[0;34m(*a, **kw)\u001b[0m\n\u001b[1;32m    126\u001b[0m     \u001b[0;32mdef\u001b[0m \u001b[0mdeco\u001b[0m\u001b[0;34m(\u001b[0m\u001b[0;34m*\u001b[0m\u001b[0ma\u001b[0m\u001b[0;34m,\u001b[0m \u001b[0;34m**\u001b[0m\u001b[0mkw\u001b[0m\u001b[0;34m)\u001b[0m\u001b[0;34m:\u001b[0m\u001b[0;34m\u001b[0m\u001b[0;34m\u001b[0m\u001b[0m\n\u001b[1;32m    127\u001b[0m         \u001b[0;32mtry\u001b[0m\u001b[0;34m:\u001b[0m\u001b[0;34m\u001b[0m\u001b[0;34m\u001b[0m\u001b[0m\n\u001b[0;32m--> 128\u001b[0;31m             \u001b[0;32mreturn\u001b[0m \u001b[0mf\u001b[0m\u001b[0;34m(\u001b[0m\u001b[0;34m*\u001b[0m\u001b[0ma\u001b[0m\u001b[0;34m,\u001b[0m \u001b[0;34m**\u001b[0m\u001b[0mkw\u001b[0m\u001b[0;34m)\u001b[0m\u001b[0;34m\u001b[0m\u001b[0;34m\u001b[0m\u001b[0m\n\u001b[0m\u001b[1;32m    129\u001b[0m         \u001b[0;32mexcept\u001b[0m \u001b[0mpy4j\u001b[0m\u001b[0;34m.\u001b[0m\u001b[0mprotocol\u001b[0m\u001b[0;34m.\u001b[0m\u001b[0mPy4JJavaError\u001b[0m \u001b[0;32mas\u001b[0m \u001b[0me\u001b[0m\u001b[0;34m:\u001b[0m\u001b[0;34m\u001b[0m\u001b[0;34m\u001b[0m\u001b[0m\n\u001b[1;32m    130\u001b[0m             \u001b[0mconverted\u001b[0m \u001b[0;34m=\u001b[0m \u001b[0mconvert_exception\u001b[0m\u001b[0;34m(\u001b[0m\u001b[0me\u001b[0m\u001b[0;34m.\u001b[0m\u001b[0mjava_exception\u001b[0m\u001b[0;34m)\u001b[0m\u001b[0;34m\u001b[0m\u001b[0;34m\u001b[0m\u001b[0m\n",
      "\u001b[0;32m/usr/lib/spark/python/lib/py4j-0.10.9-src.zip/py4j/protocol.py\u001b[0m in \u001b[0;36mget_return_value\u001b[0;34m(answer, gateway_client, target_id, name)\u001b[0m\n\u001b[1;32m    324\u001b[0m             \u001b[0mvalue\u001b[0m \u001b[0;34m=\u001b[0m \u001b[0mOUTPUT_CONVERTER\u001b[0m\u001b[0;34m[\u001b[0m\u001b[0mtype\u001b[0m\u001b[0;34m]\u001b[0m\u001b[0;34m(\u001b[0m\u001b[0manswer\u001b[0m\u001b[0;34m[\u001b[0m\u001b[0;36m2\u001b[0m\u001b[0;34m:\u001b[0m\u001b[0;34m]\u001b[0m\u001b[0;34m,\u001b[0m \u001b[0mgateway_client\u001b[0m\u001b[0;34m)\u001b[0m\u001b[0;34m\u001b[0m\u001b[0;34m\u001b[0m\u001b[0m\n\u001b[1;32m    325\u001b[0m             \u001b[0;32mif\u001b[0m \u001b[0manswer\u001b[0m\u001b[0;34m[\u001b[0m\u001b[0;36m1\u001b[0m\u001b[0;34m]\u001b[0m \u001b[0;34m==\u001b[0m \u001b[0mREFERENCE_TYPE\u001b[0m\u001b[0;34m:\u001b[0m\u001b[0;34m\u001b[0m\u001b[0;34m\u001b[0m\u001b[0m\n\u001b[0;32m--> 326\u001b[0;31m                 raise Py4JJavaError(\n\u001b[0m\u001b[1;32m    327\u001b[0m                     \u001b[0;34m\"An error occurred while calling {0}{1}{2}.\\n\"\u001b[0m\u001b[0;34m.\u001b[0m\u001b[0;34m\u001b[0m\u001b[0;34m\u001b[0m\u001b[0m\n\u001b[1;32m    328\u001b[0m                     format(target_id, \".\", name), value)\n",
      "\u001b[0;31mPy4JJavaError\u001b[0m: An error occurred while calling o185.collectToPython.\n: org.apache.spark.SparkException: Job aborted due to stage failure: Task 5 in stage 37.0 failed 4 times, most recent failure: Lost task 5.3 in stage 37.0 (TID 361, rc1a-dataproc-d-3rn07j4v9i4tt8sr.mdb.yandexcloud.net, executor 33): ExecutorLostFailure (executor 33 exited caused by one of the running tasks) Reason: Container from a bad node: container_1730310288524_0002_01_000050 on host: rc1a-dataproc-d-3rn07j4v9i4tt8sr.mdb.yandexcloud.net. Exit status: 137. Diagnostics: [2024-10-30 18:41:59.680]Container killed on request. Exit code is 137\n[2024-10-30 18:41:59.681]Container exited with a non-zero exit code 137. \n[2024-10-30 18:41:59.681]Killed by external signal\n.\nDriver stacktrace:\n\tat org.apache.spark.scheduler.DAGScheduler.failJobAndIndependentStages(DAGScheduler.scala:2059)\n\tat org.apache.spark.scheduler.DAGScheduler.$anonfun$abortStage$2(DAGScheduler.scala:2008)\n\tat org.apache.spark.scheduler.DAGScheduler.$anonfun$abortStage$2$adapted(DAGScheduler.scala:2007)\n\tat scala.collection.mutable.ResizableArray.foreach(ResizableArray.scala:62)\n\tat scala.collection.mutable.ResizableArray.foreach$(ResizableArray.scala:55)\n\tat scala.collection.mutable.ArrayBuffer.foreach(ArrayBuffer.scala:49)\n\tat org.apache.spark.scheduler.DAGScheduler.abortStage(DAGScheduler.scala:2007)\n\tat org.apache.spark.scheduler.DAGScheduler.$anonfun$handleTaskSetFailed$1(DAGScheduler.scala:973)\n\tat org.apache.spark.scheduler.DAGScheduler.$anonfun$handleTaskSetFailed$1$adapted(DAGScheduler.scala:973)\n\tat scala.Option.foreach(Option.scala:407)\n\tat org.apache.spark.scheduler.DAGScheduler.handleTaskSetFailed(DAGScheduler.scala:973)\n\tat org.apache.spark.scheduler.DAGSchedulerEventProcessLoop.doOnReceive(DAGScheduler.scala:2239)\n\tat org.apache.spark.scheduler.DAGSchedulerEventProcessLoop.onReceive(DAGScheduler.scala:2188)\n\tat org.apache.spark.scheduler.DAGSchedulerEventProcessLoop.onReceive(DAGScheduler.scala:2177)\n\tat org.apache.spark.util.EventLoop$$anon$1.run(EventLoop.scala:49)\n\tat org.apache.spark.scheduler.DAGScheduler.runJob(DAGScheduler.scala:775)\n\tat org.apache.spark.SparkContext.runJob(SparkContext.scala:2114)\n\tat org.apache.spark.SparkContext.runJob(SparkContext.scala:2135)\n\tat org.apache.spark.SparkContext.runJob(SparkContext.scala:2154)\n\tat org.apache.spark.SparkContext.runJob(SparkContext.scala:2179)\n\tat org.apache.spark.rdd.RDD.$anonfun$collect$1(RDD.scala:1004)\n\tat org.apache.spark.rdd.RDDOperationScope$.withScope(RDDOperationScope.scala:151)\n\tat org.apache.spark.rdd.RDDOperationScope$.withScope(RDDOperationScope.scala:112)\n\tat org.apache.spark.rdd.RDD.withScope(RDD.scala:388)\n\tat org.apache.spark.rdd.RDD.collect(RDD.scala:1003)\n\tat org.apache.spark.sql.execution.SparkPlan.executeCollect(SparkPlan.scala:390)\n\tat org.apache.spark.sql.Dataset.$anonfun$collectToPython$1(Dataset.scala:3450)\n\tat org.apache.spark.sql.Dataset.$anonfun$withAction$1(Dataset.scala:3618)\n\tat org.apache.spark.sql.execution.SQLExecution$.$anonfun$withNewExecutionId$5(SQLExecution.scala:100)\n\tat org.apache.spark.sql.execution.SQLExecution$.withSQLConfPropagated(SQLExecution.scala:160)\n\tat org.apache.spark.sql.execution.SQLExecution$.$anonfun$withNewExecutionId$1(SQLExecution.scala:87)\n\tat org.apache.spark.sql.SparkSession.withActive(SparkSession.scala:767)\n\tat org.apache.spark.sql.execution.SQLExecution$.withNewExecutionId(SQLExecution.scala:64)\n\tat org.apache.spark.sql.Dataset.withAction(Dataset.scala:3616)\n\tat org.apache.spark.sql.Dataset.collectToPython(Dataset.scala:3447)\n\tat sun.reflect.NativeMethodAccessorImpl.invoke0(Native Method)\n\tat sun.reflect.NativeMethodAccessorImpl.invoke(NativeMethodAccessorImpl.java:62)\n\tat sun.reflect.DelegatingMethodAccessorImpl.invoke(DelegatingMethodAccessorImpl.java:43)\n\tat java.lang.reflect.Method.invoke(Method.java:498)\n\tat py4j.reflection.MethodInvoker.invoke(MethodInvoker.java:244)\n\tat py4j.reflection.ReflectionEngine.invoke(ReflectionEngine.java:357)\n\tat py4j.Gateway.invoke(Gateway.java:282)\n\tat py4j.commands.AbstractCommand.invokeMethod(AbstractCommand.java:132)\n\tat py4j.commands.CallCommand.execute(CallCommand.java:79)\n\tat py4j.GatewayConnection.run(GatewayConnection.java:238)\n\tat java.lang.Thread.run(Thread.java:750)\n"
     ]
    }
   ],
   "source": [
    "df_join.toPandas().head()"
   ]
  },
  {
   "cell_type": "markdown",
   "id": "626285fc",
   "metadata": {},
   "source": [
    "## Упражнение 4\n",
    "\n",
    "В файле \"lectures.csv\" хранится информация об лекциях. Объедините эту таблицу с основным набором данных при условии, что content_type_id == 1."
   ]
  },
  {
   "cell_type": "code",
   "execution_count": null,
   "id": "f2afa335",
   "metadata": {},
   "outputs": [],
   "source": []
  }
 ],
 "metadata": {
  "kernelspec": {
   "display_name": "Python 3",
   "language": "python",
   "name": "python3"
  },
  "language_info": {
   "codemirror_mode": {
    "name": "ipython",
    "version": 3
   },
   "file_extension": ".py",
   "mimetype": "text/x-python",
   "name": "python",
   "nbconvert_exporter": "python",
   "pygments_lexer": "ipython3",
   "version": "3.8.10"
  }
 },
 "nbformat": 4,
 "nbformat_minor": 5
}
